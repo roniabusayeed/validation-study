{
 "cells": [
  {
   "cell_type": "code",
   "id": "initial_id",
   "metadata": {
    "collapsed": true,
    "ExecuteTime": {
     "end_time": "2024-09-17T23:35:42.045690Z",
     "start_time": "2024-09-17T23:35:40.590925Z"
    }
   },
   "source": [
    "from sshtunnel import SSHTunnelForwarder\n",
    "import psycopg2\n",
    "import os\n",
    "import pandas as pd\n",
    "\n",
    "pd.set_option('display.max_rows', 100)\n",
    "pd.set_option('display.max_columns', None)\n",
    "\n",
    "# SSH connection details.\n",
    "ssh_host = 'loki.research.cs.dal.ca'\n",
    "ssh_port = 22\n",
    "ssh_username = os.getenv('LOKI_USERNAME')\n",
    "ssh_password = os.getenv('LOKI_PASSWORD')\n",
    "\n",
    "# Database connection details.\n",
    "db_host = '127.0.0.1'\n",
    "db_port = 5432\n",
    "db_name = 'staging_db'\n",
    "db_user = os.getenv('STAGING_DB_USERNAME')\n",
    "db_password = os.getenv('STAGING_DB_PASSWORD')\n",
    "\n",
    "# Establish SSH tunnel and connect to PostgreSQL.\n",
    "try:\n",
    "    with SSHTunnelForwarder(\n",
    "        (ssh_host, ssh_port),\n",
    "        ssh_username=ssh_username,\n",
    "        ssh_password=ssh_password,\n",
    "        remote_bind_address=('127.0.0.1', db_port)  # Forwarding PostgreSQL port.\n",
    "    ) as tunnel:\n",
    "    \n",
    "        # Connect to PostgreSQL database through the SSH tunnel.\n",
    "        conn = psycopg2.connect(\n",
    "            host=db_host,\n",
    "            port=tunnel.local_bind_port,  # use the local port set by the tunnel.\n",
    "            dbname=db_name,\n",
    "            user=db_user,\n",
    "            password=db_password\n",
    "        )\n",
    "        \n",
    "        print(\"Database connection established\")\n",
    "        query = \"SELECT * FROM study_prositvd.lock_state;\"\n",
    "        df = pd.read_sql_query(query, conn)\n",
    "        \n",
    "        # Close database connection.\n",
    "        conn.close()\n",
    "\n",
    "except Exception as e:\n",
    "    print(f\"An error occurred: {e}\")"
   ],
   "outputs": [
    {
     "name": "stdout",
     "output_type": "stream",
     "text": [
      "Database connection established\n"
     ]
    }
   ],
   "execution_count": 5
  },
  {
   "metadata": {},
   "cell_type": "code",
   "outputs": [],
   "execution_count": null,
   "source": "",
   "id": "b4ab0ae1df4c42f1"
  }
 ],
 "metadata": {
  "kernelspec": {
   "display_name": "Python 3",
   "language": "python",
   "name": "python3"
  },
  "language_info": {
   "codemirror_mode": {
    "name": "ipython",
    "version": 2
   },
   "file_extension": ".py",
   "mimetype": "text/x-python",
   "name": "python",
   "nbconvert_exporter": "python",
   "pygments_lexer": "ipython2",
   "version": "2.7.6"
  }
 },
 "nbformat": 4,
 "nbformat_minor": 5
}
