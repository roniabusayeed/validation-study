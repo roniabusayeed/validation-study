{
 "cells": [
  {
   "cell_type": "code",
   "id": "initial_id",
   "metadata": {
    "collapsed": true
   },
   "source": [
    "from sshtunnel import SSHTunnelForwarder\n",
    "import psycopg2\n",
    "import os\n",
    "import pandas as pd\n",
    "\n",
    "# SSH connection details.\n",
    "ssh_host = 'loki.research.cs.dal.ca'\n",
    "ssh_port = 22\n",
    "ssh_username = os.getenv('LOKI_USERNAME')\n",
    "ssh_password = os.getenv('LOKI_PASSWORD')\n",
    "\n",
    "# Database connection details.\n",
    "db_host = '127.0.0.1'\n",
    "db_port = 5432\n",
    "db_name = 'staging_db'\n",
    "db_user = os.getenv('STAGING_DB_USERNAME')\n",
    "db_password = os.getenv('STAGING_DB_PASSWORD')\n",
    "\n",
    "# Establish SSH tunnel and connect to PostgreSQL.\n",
    "try:\n",
    "    with SSHTunnelForwarder(\n",
    "        (ssh_host, ssh_port),\n",
    "        ssh_username=ssh_username,\n",
    "        ssh_password=ssh_password,\n",
    "        remote_bind_address=('127.0.0.1', db_port)  # Forwarding PostgreSQL port.\n",
    "    ) as tunnel:\n",
    "    \n",
    "        # Connect to PostgreSQL database through the SSH tunnel.\n",
    "        conn = psycopg2.connect(\n",
    "            host=db_host,\n",
    "            port=tunnel.local_bind_port,  # use the local port set by the tunnel.\n",
    "            dbname=db_name,\n",
    "            user=db_user,\n",
    "            password=db_password\n",
    "        )\n",
    "        \n",
    "        print(\"Database connection established\")\n",
    "        \n",
    "        activity_query = \"SELECT * FROM study_prositvd.activity;\"\n",
    "        df_activity = pd.read_sql_query(activity_query, conn)\n",
    "        \n",
    "        # Close database connection.\n",
    "        conn.close()\n",
    "\n",
    "except Exception as e:\n",
    "    print(f\"An error occurred: {e}\")"
   ],
   "outputs": [],
   "execution_count": null
  },
  {
   "metadata": {},
   "cell_type": "code",
   "source": "df_activity.head()",
   "id": "b592db1fff5f5b6f",
   "outputs": [],
   "execution_count": null
  },
  {
   "metadata": {},
   "cell_type": "code",
   "source": [
    "df_activity['is_stationary']        = df_activity['value0'].apply(lambda x: int(x.split(', ')[1]))\n",
    "df_activity['is_walking']           = df_activity['value0'].apply(lambda x: int(x.split(', ')[3]))\n",
    "df_activity['is_running']           = df_activity['value0'].apply(lambda x: int(x.split(', ')[5]))\n",
    "df_activity['is_in_vehicle']        = df_activity['value0'].apply(lambda x: int(x.split(', ')[7]))\n",
    "df_activity['is_cycling']           = df_activity['value0'].apply(lambda x: int(x.split(', ')[9]))\n",
    "df_activity['is_activity_unknown']  = df_activity['value0'].apply(lambda x: int(x.split(', ')[11]))\n",
    "df_activity['confidence']           = df_activity['value0'].apply(lambda x: 1 if x.split(', ')[13] == 'High' else 0)"
   ],
   "id": "57ce160b8742c8a4",
   "outputs": [],
   "execution_count": null
  },
  {
   "metadata": {},
   "cell_type": "code",
   "source": "df_activity.head()",
   "id": "1b93e0f3ae5d0d00",
   "outputs": [],
   "execution_count": null
  },
  {
   "metadata": {},
   "cell_type": "code",
   "source": [
    "df_activity.drop('_id', axis=1, inplace=True)\n",
    "df_activity.drop('value0', axis=1, inplace=True)"
   ],
   "id": "b4d11ff5e6494adc",
   "outputs": [],
   "execution_count": null
  },
  {
   "metadata": {},
   "cell_type": "code",
   "source": "df_activity.head()",
   "id": "34c02ae02c4d9a0a",
   "outputs": [],
   "execution_count": null
  },
  {
   "metadata": {
    "ExecuteTime": {
     "end_time": "2024-10-25T18:20:44.712082Z",
     "start_time": "2024-10-25T18:20:44.631403Z"
    }
   },
   "cell_type": "code",
   "source": [
    "# Filter out rows with low confidence and unknown activities.\n",
    "df_known_confident = df_activity[(df_activity.is_activity_unknown == 0) & (df_activity.confidence == 1)]"
   ],
   "id": "634b654a67b09778",
   "outputs": [],
   "execution_count": 60
  },
  {
   "metadata": {
    "ExecuteTime": {
     "end_time": "2024-10-25T18:20:46.307095Z",
     "start_time": "2024-10-25T18:20:46.238724Z"
    }
   },
   "cell_type": "code",
   "source": [
    "print(f\"Stationary count: {df_known_confident[(df_known_confident.is_stationary == 0)].shape[0]}\")\n",
    "print(f\"Non-stationary count: {df_known_confident[(df_known_confident.is_stationary == 1)].shape[0]}\")"
   ],
   "id": "4162a5b857a865a7",
   "outputs": [
    {
     "name": "stdout",
     "output_type": "stream",
     "text": [
      "Stationary count: 266028\n",
      "Non-stationary count: 595798\n"
     ]
    }
   ],
   "execution_count": 61
  },
  {
   "metadata": {
    "ExecuteTime": {
     "end_time": "2024-10-25T18:20:50.698383Z",
     "start_time": "2024-10-25T18:20:50.656204Z"
    }
   },
   "cell_type": "code",
   "source": "participant_ids = df_known_confident['participantid'].drop_duplicates().to_list()",
   "id": "b5f5c53a3e9aa281",
   "outputs": [],
   "execution_count": 62
  },
  {
   "metadata": {},
   "cell_type": "code",
   "source": [
    "# Function to calculate total duration from a list of windows.\n",
    "def get_total_duration(start, end, windows):\n",
    "    total_duration = timedelta(seconds=0)\n",
    "    for window in windows:\n",
    "        window_start, window_end = window\n",
    "        if window_end >= start and window_start <= end:\n",
    "            overlap_start = max(window_start, start)\n",
    "            overlap_end = min(window_end, end)\n",
    "            total_duration += overlap_end - overlap_start\n",
    "    return total_duration"
   ],
   "id": "52fd7632d7c6a150",
   "outputs": [],
   "execution_count": null
  },
  {
   "metadata": {
    "ExecuteTime": {
     "end_time": "2024-10-25T18:22:19.033673Z",
     "start_time": "2024-10-25T18:22:19.031647Z"
    }
   },
   "cell_type": "code",
   "source": [
    "import datetime\n",
    "from datetime import timedelta"
   ],
   "id": "c012596dc5ba8bc4",
   "outputs": [],
   "execution_count": 65
  },
  {
   "metadata": {
    "ExecuteTime": {
     "end_time": "2024-10-25T18:22:20.617500Z",
     "start_time": "2024-10-25T18:22:20.614392Z"
    }
   },
   "cell_type": "code",
   "source": [
    "# Define the start and end timestamps (observation window)\n",
    "start_timestamp = pd.Timestamp('22:00:00').time()\n",
    "end_timestamp = pd.Timestamp('08:00:00').time()\n",
    "ascribe_duration_to_prev_day = True  # I.e. the day before wakeup. \n",
    "\n",
    "# Define the inactive threshold\n",
    "inactive_threshold = timedelta(minutes=15)"
   ],
   "id": "5625bb3562b5b228",
   "outputs": [],
   "execution_count": 66
  },
  {
   "metadata": {
    "ExecuteTime": {
     "end_time": "2024-10-25T18:24:18.699842Z",
     "start_time": "2024-10-25T18:24:14.546382Z"
    }
   },
   "cell_type": "code",
   "source": [
    "all_results = {}    # participant_id : participant_results_df\n",
    "\n",
    "for participant_id in participant_ids:\n",
    "    participant_df = df_known_confident[df_known_confident.participantid == participant_id]\n",
    "    \n",
    "    participant_df.drop('uploadedat', axis=1, inplace=True)\n",
    "    \n",
    "    participant_df['is_active'] = (participant_df['is_stationary'].apply(lambda x: x == 1) & participant_df['is_in_vehicle'].apply(lambda x: x == 0)).apply(lambda x: 0 if x else 1)\n",
    "    \n",
    "    participant_df.drop('is_stationary', axis=1, inplace=True)\n",
    "    participant_df.drop('is_walking', axis=1, inplace=True)\n",
    "    participant_df.drop('is_running', axis=1, inplace=True)\n",
    "    participant_df.drop('is_in_vehicle', axis=1, inplace=True)\n",
    "    participant_df.drop('is_cycling', axis=1, inplace=True)\n",
    "    participant_df.drop('is_activity_unknown', axis=1, inplace=True)\n",
    "    participant_df.drop('confidence', axis=1, inplace=True)\n",
    "    \n",
    "    participant_df.drop('participantid', axis=1, inplace=True)\n",
    "    \n",
    "    # Extract sorted timestamps where `is_active` is 1.\n",
    "    active_timestamps = participant_df[participant_df['is_active'] == 1].sort_values(by='measuredat')['measuredat'].tolist()\n",
    "\n",
    "    ######################################################################\n",
    "    # Extract active windows                                             #\n",
    "    ######################################################################\n",
    "    \n",
    "    # Initialize empty list to store active windows\n",
    "    active_windows = []\n",
    "    \n",
    "    # Initialize the first window\n",
    "    start_time = active_timestamps[0]\n",
    "    end_time = active_timestamps[0]\n",
    "    \n",
    "    # Iterate through the timestamps\n",
    "    for i in range(1, len(active_timestamps)):\n",
    "        current_time = active_timestamps[i]\n",
    "        previous_time = active_timestamps[i - 1]\n",
    "        \n",
    "        # If the difference is greater than the inactive threshold, close the current window\n",
    "        if current_time - previous_time > inactive_threshold:\n",
    "            active_windows.append((start_time, end_time))\n",
    "            start_time = current_time  # Start a new window\n",
    "        \n",
    "        end_time = current_time  # Update end time for the current window\n",
    "    \n",
    "    # Append the last window\n",
    "    active_windows.append((start_time, end_time))\n",
    "    \n",
    "    \n",
    "    ######################################################################\n",
    "    # Extract inactive windows                                           #\n",
    "    ######################################################################\n",
    "    \n",
    "    # Create the list of inactive windows\n",
    "    inactive_windows = []\n",
    "    \n",
    "    # Start with the first inactive window, which starts at the end of the first active window\n",
    "    prev_end = active_windows[0][1]\n",
    "    \n",
    "    for window in active_windows[1:]:\n",
    "        current_start = window[0]\n",
    "        \n",
    "        # If there’s a gap between two active windows, it becomes an inactive window\n",
    "        if current_start - prev_end > timedelta(seconds=0):\n",
    "            inactive_windows.append((prev_end, current_start))\n",
    "        \n",
    "        # Update previous window end\n",
    "        prev_end = window[1]\n",
    "        \n",
    "    # If there are no inactive windows, move on to the next participant.\n",
    "    if not inactive_windows:\n",
    "        continue\n",
    "    \n",
    "    # Create a dataframe for each participant.\n",
    "    participant_results_df = pd.DataFrame(columns=['date', 'duration'])\n",
    "    \n",
    "    # Iterate from start date to end date for this participant.\n",
    "    start_date = inactive_windows[0][0].date()\n",
    "    end_date = inactive_windows[-1][-1].date()\n",
    "    current_date = start_date\n",
    "    while current_date <= end_date:\n",
    "        \n",
    "        # Construct full timestamps.\n",
    "        if start_timestamp < end_timestamp:\n",
    "            start = pd.to_datetime(f\"{current_date} {start_timestamp}\")\n",
    "            end = pd.to_datetime(f\"{current_date} {end_timestamp}\")\n",
    "        elif start_timestamp > end_timestamp:\n",
    "            start = pd.to_datetime(f\"{current_date} {start_timestamp}\")\n",
    "            end = pd.to_datetime(f\"{current_date + timedelta(days=1)} {end_timestamp}\")\n",
    "        else:\n",
    "            print(\"Error: invalid timestamp\")\n",
    "        \n",
    "        # Compute ascribed date and duration of inactive minutes for that day.\n",
    "        if ascribe_duration_to_prev_day:\n",
    "            date = end.date() - timedelta(days=1)\n",
    "        else:\n",
    "            date = end.date()\n",
    "        \n",
    "        duration = get_total_duration(start, end, active_windows).total_seconds() / 60\n",
    "        \n",
    "        # Construct the row for the day.\n",
    "        entry = { 'date': date, 'duration': duration }\n",
    "        participant_results_df = pd.concat([participant_results_df, pd.DataFrame([entry])], ignore_index=True)\n",
    "        \n",
    "        current_date += timedelta(days=1)\n",
    "    \n",
    "    # Add participants result to the list of results df.\n",
    "    all_results[participant_id] = participant_results_df"
   ],
   "id": "9c854ecf5a81ed50",
   "outputs": [],
   "execution_count": 72
  },
  {
   "metadata": {
    "ExecuteTime": {
     "end_time": "2024-10-25T18:24:21.091761Z",
     "start_time": "2024-10-25T18:24:21.087862Z"
    }
   },
   "cell_type": "code",
   "source": "all_results.keys()",
   "id": "7ba2e4a5758d7dca",
   "outputs": [
    {
     "data": {
      "text/plain": [
       "dict_keys(['prositvd5', 'prositvd6', 'prositvd9', 'prositvd11', 'prositvd15', 'prositvd17', 'prositvd24', 'prositvd26', 'prositvd30', 'prositvd31', 'prositvd34', 'prositvd39', 'prositvd41', 'prositvd42', 'prositvd45', 'prositvd49', 'prositvd61', 'prositvd65', 'prositvd68', 'prositvd78', 'prositvd80', 'prositvd87', 'prositvd88', 'prositvd89', 'prositvd90', 'prositvd91', 'prositvd92', 'prositvd96', 'prositvd97', 'prositvd105', 'prositvd106', 'prositvd109', 'prositvd110', 'prositvd113', 'prositvd117', 'prositvd119', 'prositvd121', 'prositvd123', 'prositvd128', 'prositvd129', 'prositvd155', 'prositvd164', 'prositvd180', 'prositvd181', 'prositvd183', 'prositvd185', 'prositvd186', 'prositvd188', 'prositvd193', 'prositvd195', 'prositvd196', 'prositvd198', 'prositvd200'])"
      ]
     },
     "execution_count": 73,
     "metadata": {},
     "output_type": "execute_result"
    }
   ],
   "execution_count": 73
  },
  {
   "metadata": {
    "ExecuteTime": {
     "end_time": "2024-10-25T18:24:22.349661Z",
     "start_time": "2024-10-25T18:24:22.343917Z"
    }
   },
   "cell_type": "code",
   "source": "all_results['prositvd42']",
   "id": "12c46c6dee56248c",
   "outputs": [
    {
     "data": {
      "text/plain": [
       "          date   duration\n",
       "0   2022-11-21   0.000000\n",
       "1   2022-11-22   4.600000\n",
       "2   2022-11-23   0.983333\n",
       "3   2022-11-24  68.716667\n",
       "4   2022-11-25   0.000000\n",
       "5   2022-11-26   0.000000\n",
       "6   2022-11-27   0.000000\n",
       "7   2022-11-28   0.000000\n",
       "8   2022-11-29   0.000000\n",
       "9   2022-11-30   0.800000\n",
       "10  2022-12-01  37.266667\n",
       "11  2022-12-02   1.416667\n",
       "12  2022-12-03   0.000000\n",
       "13  2022-12-04   4.250000\n",
       "14  2022-12-05   1.833333\n",
       "15  2022-12-06   0.000000"
      ],
      "text/html": [
       "<div>\n",
       "<style scoped>\n",
       "    .dataframe tbody tr th:only-of-type {\n",
       "        vertical-align: middle;\n",
       "    }\n",
       "\n",
       "    .dataframe tbody tr th {\n",
       "        vertical-align: top;\n",
       "    }\n",
       "\n",
       "    .dataframe thead th {\n",
       "        text-align: right;\n",
       "    }\n",
       "</style>\n",
       "<table border=\"1\" class=\"dataframe\">\n",
       "  <thead>\n",
       "    <tr style=\"text-align: right;\">\n",
       "      <th></th>\n",
       "      <th>date</th>\n",
       "      <th>duration</th>\n",
       "    </tr>\n",
       "  </thead>\n",
       "  <tbody>\n",
       "    <tr>\n",
       "      <th>0</th>\n",
       "      <td>2022-11-21</td>\n",
       "      <td>0.000000</td>\n",
       "    </tr>\n",
       "    <tr>\n",
       "      <th>1</th>\n",
       "      <td>2022-11-22</td>\n",
       "      <td>4.600000</td>\n",
       "    </tr>\n",
       "    <tr>\n",
       "      <th>2</th>\n",
       "      <td>2022-11-23</td>\n",
       "      <td>0.983333</td>\n",
       "    </tr>\n",
       "    <tr>\n",
       "      <th>3</th>\n",
       "      <td>2022-11-24</td>\n",
       "      <td>68.716667</td>\n",
       "    </tr>\n",
       "    <tr>\n",
       "      <th>4</th>\n",
       "      <td>2022-11-25</td>\n",
       "      <td>0.000000</td>\n",
       "    </tr>\n",
       "    <tr>\n",
       "      <th>5</th>\n",
       "      <td>2022-11-26</td>\n",
       "      <td>0.000000</td>\n",
       "    </tr>\n",
       "    <tr>\n",
       "      <th>6</th>\n",
       "      <td>2022-11-27</td>\n",
       "      <td>0.000000</td>\n",
       "    </tr>\n",
       "    <tr>\n",
       "      <th>7</th>\n",
       "      <td>2022-11-28</td>\n",
       "      <td>0.000000</td>\n",
       "    </tr>\n",
       "    <tr>\n",
       "      <th>8</th>\n",
       "      <td>2022-11-29</td>\n",
       "      <td>0.000000</td>\n",
       "    </tr>\n",
       "    <tr>\n",
       "      <th>9</th>\n",
       "      <td>2022-11-30</td>\n",
       "      <td>0.800000</td>\n",
       "    </tr>\n",
       "    <tr>\n",
       "      <th>10</th>\n",
       "      <td>2022-12-01</td>\n",
       "      <td>37.266667</td>\n",
       "    </tr>\n",
       "    <tr>\n",
       "      <th>11</th>\n",
       "      <td>2022-12-02</td>\n",
       "      <td>1.416667</td>\n",
       "    </tr>\n",
       "    <tr>\n",
       "      <th>12</th>\n",
       "      <td>2022-12-03</td>\n",
       "      <td>0.000000</td>\n",
       "    </tr>\n",
       "    <tr>\n",
       "      <th>13</th>\n",
       "      <td>2022-12-04</td>\n",
       "      <td>4.250000</td>\n",
       "    </tr>\n",
       "    <tr>\n",
       "      <th>14</th>\n",
       "      <td>2022-12-05</td>\n",
       "      <td>1.833333</td>\n",
       "    </tr>\n",
       "    <tr>\n",
       "      <th>15</th>\n",
       "      <td>2022-12-06</td>\n",
       "      <td>0.000000</td>\n",
       "    </tr>\n",
       "  </tbody>\n",
       "</table>\n",
       "</div>"
      ]
     },
     "execution_count": 74,
     "metadata": {},
     "output_type": "execute_result"
    }
   ],
   "execution_count": 74
  },
  {
   "metadata": {},
   "cell_type": "code",
   "source": "",
   "id": "7dfb62a285a7592f",
   "outputs": [],
   "execution_count": null
  }
 ],
 "metadata": {
  "kernelspec": {
   "display_name": "Python 3",
   "language": "python",
   "name": "python3"
  },
  "language_info": {
   "codemirror_mode": {
    "name": "ipython",
    "version": 2
   },
   "file_extension": ".py",
   "mimetype": "text/x-python",
   "name": "python",
   "nbconvert_exporter": "python",
   "pygments_lexer": "ipython2",
   "version": "2.7.6"
  }
 },
 "nbformat": 4,
 "nbformat_minor": 5
}
