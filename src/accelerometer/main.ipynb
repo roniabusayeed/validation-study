{
 "cells": [
  {
   "cell_type": "code",
   "id": "initial_id",
   "metadata": {
    "collapsed": true,
    "ExecuteTime": {
     "end_time": "2024-10-16T23:12:44.541986Z",
     "start_time": "2024-10-16T23:12:40.825529Z"
    }
   },
   "source": [
    "import numpy as np\n",
    "from sshtunnel import SSHTunnelForwarder\n",
    "import psycopg2\n",
    "import os\n",
    "import pandas as pd\n",
    "\n",
    "# SSH connection details.\n",
    "ssh_host = 'loki.research.cs.dal.ca'\n",
    "ssh_port = 22\n",
    "ssh_username = os.getenv('LOKI_USERNAME')\n",
    "ssh_password = os.getenv('LOKI_PASSWORD')\n",
    "\n",
    "# Database connection details.\n",
    "db_host = '127.0.0.1'\n",
    "db_port = 5432\n",
    "db_name = 'staging_db'\n",
    "db_user = os.getenv('STAGING_DB_USERNAME')\n",
    "db_password = os.getenv('STAGING_DB_PASSWORD')\n",
    "\n",
    "# Establish SSH tunnel and connect to PostgreSQL.\n",
    "try:\n",
    "    with SSHTunnelForwarder(\n",
    "        (ssh_host, ssh_port),\n",
    "        ssh_username=ssh_username,\n",
    "        ssh_password=ssh_password,\n",
    "        remote_bind_address=('127.0.0.1', db_port)  # Forwarding PostgreSQL port.\n",
    "    ) as tunnel:\n",
    "    \n",
    "        # Connect to PostgreSQL database through the SSH tunnel.\n",
    "        conn = psycopg2.connect(\n",
    "            host=db_host,\n",
    "            port=tunnel.local_bind_port,  # use the local port set by the tunnel.\n",
    "            dbname=db_name,\n",
    "            user=db_user,\n",
    "            password=db_password\n",
    "        )\n",
    "        \n",
    "        print(\"Database connection established\")\n",
    "        \n",
    "        accelerometer_query = \"SELECT * FROM study_prositvd.location;\"\n",
    "        df_location = pd.read_sql_query(accelerometer_query, conn)\n",
    "        \n",
    "        # Close database connection.\n",
    "        conn.close()\n",
    "\n",
    "except Exception as e:\n",
    "    print(f\"An error occurred: {e}\")"
   ],
   "outputs": [
    {
     "name": "stdout",
     "output_type": "stream",
     "text": [
      "Database connection established\n"
     ]
    }
   ],
   "execution_count": 8
  },
  {
   "metadata": {
    "ExecuteTime": {
     "end_time": "2024-10-16T23:12:44.610897Z",
     "start_time": "2024-10-16T23:12:44.548039Z"
    }
   },
   "cell_type": "code",
   "source": "df_activity.participantid.drop_duplicates().shape",
   "id": "bda1cdfdae5be070",
   "outputs": [
    {
     "data": {
      "text/plain": [
       "(54,)"
      ]
     },
     "execution_count": 9,
     "metadata": {},
     "output_type": "execute_result"
    }
   ],
   "execution_count": 9
  },
  {
   "metadata": {
    "ExecuteTime": {
     "end_time": "2024-10-16T23:15:48.016203Z",
     "start_time": "2024-10-16T23:15:48.005278Z"
    }
   },
   "cell_type": "code",
   "source": "df_location.participantid.drop_duplicates().shape",
   "id": "e5ef97be4e7f1ece",
   "outputs": [
    {
     "data": {
      "text/plain": [
       "(67,)"
      ]
     },
     "execution_count": 11,
     "metadata": {},
     "output_type": "execute_result"
    }
   ],
   "execution_count": 11
  },
  {
   "metadata": {},
   "cell_type": "code",
   "outputs": [],
   "execution_count": null,
   "source": "",
   "id": "cda4ed05ae461f30"
  }
 ],
 "metadata": {
  "kernelspec": {
   "display_name": "Python 3",
   "language": "python",
   "name": "python3"
  },
  "language_info": {
   "codemirror_mode": {
    "name": "ipython",
    "version": 2
   },
   "file_extension": ".py",
   "mimetype": "text/x-python",
   "name": "python",
   "nbconvert_exporter": "python",
   "pygments_lexer": "ipython2",
   "version": "2.7.6"
  }
 },
 "nbformat": 4,
 "nbformat_minor": 5
}
